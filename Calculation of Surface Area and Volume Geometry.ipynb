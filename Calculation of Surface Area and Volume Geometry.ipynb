{
 "cells": [
  {
   "cell_type": "code",
   "execution_count": 19,
   "id": "3e34e605-208f-49c6-aa39-8c173b5f3523",
   "metadata": {},
   "outputs": [
    {
     "name": "stdout",
     "output_type": "stream",
     "text": [
      "Calculation of Surface Area and Volume Geomatry\n",
      "Choose one of the option below!\n",
      "1.) Surface Area and Volume of Cube\n",
      "2.) Surface Area and Volume of Cuboid\n",
      "3.) Surface Area and Volume of Silinder\n",
      "4.) Surface Area and Volume of Sphere\n",
      "5.) Surface Area and Volume of Triangular Prism\n",
      "6.) Surface Area and Volume of Cone\n",
      "7.) Surface Area and Volume of Pyramid\n"
     ]
    },
    {
     "name": "stdin",
     "output_type": "stream",
     "text": [
      "input choose one of the number above = 9\n"
     ]
    },
    {
     "name": "stdout",
     "output_type": "stream",
     "text": [
      "Sorry you pick the wrong number\n"
     ]
    }
   ],
   "source": [
    "print(\"Calculation of Surface Area and Volume Geomatry\")\n",
    "print(\"Choose one of the option below!\")\n",
    "print(\"1.) Surface Area and Volume of Cube\")\n",
    "print(\"2.) Surface Area and Volume of Cuboid\")\n",
    "print(\"3.) Surface Area and Volume of Silinder\")\n",
    "print(\"4.) Surface Area and Volume of Sphere\")\n",
    "print(\"5.) Surface Area and Volume of Triangular Prism\")\n",
    "print(\"6.) Surface Area and Volume of Cone\")\n",
    "print(\"7.) Surface Area and Volume of Pyramid\")\n",
    "\n",
    "p=int(input('input choose one of the number above ='))\n",
    "\n",
    "if p==1:\n",
    "    print('1.) Surface Area and Volume of Cube')\n",
    "    s=int(input('side ='))\n",
    "    Area=s**2*6\n",
    "    Volume=s**3\n",
    "    print('Surface Area =', Area)\n",
    "    print('Geometry Volume =', Volume)\n",
    "\n",
    "if p==2:\n",
    "    print('2.) Surface Area and Volume of Cuboid')\n",
    "    l=int(input('length ='))\n",
    "    w=int(input('width ='))\n",
    "    h=int(input('height ='))\n",
    "    Area=2*(l*w+l*h+w*h)\n",
    "    Volume=l*w*h\n",
    "    print('Surface Area =', Area)\n",
    "    print('geometry Volume =', Volume)\n",
    "\n",
    "if p==3:\n",
    "    print('Surface Area and Volume of Silinder')\n",
    "    pi=22/7\n",
    "    r=int(input('radius ='))\n",
    "    h=int(input('height ='))\n",
    "    Area=(2*pi*r*h)+(2*pi*r**2)\n",
    "    Volume=pi*r**2*h\n",
    "    print('Surface Area =', Area)\n",
    "    print('Geometry Volume =', Volume)\n",
    "\n",
    "if p==4:\n",
    "    print('4.) Surface Area and Volume of Sphere')\n",
    "    pi=22/7\n",
    "    r=int(input('radius ='))\n",
    "    Area=4*pi*r**2\n",
    "    Volume=4/3*pi*r**3\n",
    "    print('Surface Area =', Area)\n",
    "    print('Geometry Volume =', Volume)\n",
    "\n",
    "if p==5:\n",
    "    print('5.) Surface Area and Volume of Triangular Prism')\n",
    "    r1=int(input('triangular base ='))\n",
    "    r2=int(input('triangular height ='))\n",
    "    r3=int(input('triangle diagonal side ='))\n",
    "    h=int(input('prism height ='))\n",
    "    Area=(r1*r2)+((r1+r2+r3)*h)\n",
    "    Volume=(1/2*r1*r2)*h\n",
    "    print('Surface Area =', Area)\n",
    "    print('Geometry Volume =', Volume)\n",
    "\n",
    "if p==6:\n",
    "    print('6.) Surface Area and Volume of Cone')\n",
    "    pi=22/7\n",
    "    r=int(input('radius ='))\n",
    "    s=int(input('side ='))\n",
    "    h=int(input('height ='))\n",
    "    Area=pi*r*s+pi*r**2\n",
    "    Volume=1/3*pi*r**2*h\n",
    "    print('Surface Area =', Area)\n",
    "    print('Geometry Volume =', Volume)\n",
    "\n",
    "if p==7:\n",
    "    print('7.) Surface Area and Volume of Pyramid')\n",
    "    s=int(input('side ='))\n",
    "    a=int(input('triangular base ='))\n",
    "    h=int(input('height ='))\n",
    "    Area=s*2+(4*(1/2*a*h))\n",
    "    Volume=1/3*s**2*h\n",
    "    print('Surface Area =', Area)\n",
    "    print('Geometry Volume =', Volume)\n",
    "\n",
    "else:\n",
    "    print('Sorry you pick the wrong number')"
   ]
  },
  {
   "cell_type": "code",
   "execution_count": null,
   "id": "adc70960-fbd0-4f68-a916-904ad986acd5",
   "metadata": {},
   "outputs": [],
   "source": []
  }
 ],
 "metadata": {
  "kernelspec": {
   "display_name": "Python 3 (ipykernel)",
   "language": "python",
   "name": "python3"
  },
  "language_info": {
   "codemirror_mode": {
    "name": "ipython",
    "version": 3
   },
   "file_extension": ".py",
   "mimetype": "text/x-python",
   "name": "python",
   "nbconvert_exporter": "python",
   "pygments_lexer": "ipython3",
   "version": "3.12.4"
  }
 },
 "nbformat": 4,
 "nbformat_minor": 5
}
