{
 "cells": [
  {
   "cell_type": "code",
   "execution_count": 14,
   "id": "35077863-eb66-4764-aaa7-9a5142a5d17e",
   "metadata": {},
   "outputs": [
    {
     "name": "stdout",
     "output_type": "stream",
     "text": [
      "Sum of y: 23.299999999999997\n",
      "Sum of y**2: 108.99000000000001\n",
      "-------------------------------------------\n",
      "Mean of Velocity is 4.66 km/s\n",
      "Standard Deviation of Velocity is 4.99 km/s\n"
     ]
    }
   ],
   "source": [
    "import pandas as pd\n",
    "petrophy={'rock density' :[2.60, 2.65, 2.70, 2.75, 2.80],\n",
    "          'seismic velocity' :[4.2, 4.5, 4.7, 4.9, 5.0]}\n",
    "petro_df=pd.DataFrame(petrophy)\n",
    "petro_df\n",
    "\n",
    "import numpy as np\n",
    "import math\n",
    "\n",
    "X=np.array(petro_df ['rock density'])\n",
    "Y=np.array(petro_df ['seismic velocity'])\n",
    "N_Data=len(Y)\n",
    "\n",
    "n=0\n",
    "sum_y=0\n",
    "sum_y2=0\n",
    "\n",
    "while n < N_Data: \n",
    "    y=Y[n]\n",
    "    sum_y += y\n",
    "    sum_y2 += y**2\n",
    "    y=Y[n]\n",
    "    n +=1\n",
    "\n",
    "print(f\"Sum of y: {sum_y}\")\n",
    "print(f\"Sum of y**2: {sum_y2}\")\n",
    "\n",
    "y_bar=sum_y/n\n",
    "std_dev=math.sqrt((n*sum_y2-sum_y*2)/(n*(n-1)))\n",
    "\n",
    "print('-------------------------------------------')\n",
    "print(f'Mean of Velocity is {y_bar:.2f} km/s')\n",
    "print(f'Standard Deviation of Velocity is {std_dev:.2f} km/s')"
   ]
  },
  {
   "cell_type": "code",
   "execution_count": 8,
   "id": "588d3158-adfe-44e2-9f72-07a1eded06ab",
   "metadata": {},
   "outputs": [
    {
     "name": "stdout",
     "output_type": "stream",
     "text": [
      "Sum of x: 13.5\n",
      "Sum of x**2: 36.475\n",
      "-------------------------------------------\n",
      "Mean of Density is 2.70 g/cc\n",
      "Standard Deviation of Density is 2.79 g/cc\n"
     ]
    }
   ],
   "source": [
    "import pandas as pd\n",
    "petrophy={'rock density' :[2.60, 2.65, 2.70, 2.75, 2.80],\n",
    "          'seismic velocity' :[4.2, 4.5, 4.7, 4.9, 5.0]}\n",
    "petro_df=pd.DataFrame(petrophy)\n",
    "petro_df\n",
    "\n",
    "import numpy as np\n",
    "import math\n",
    "\n",
    "X=np.array(petro_df ['rock density'])\n",
    "Y=np.array(petro_df ['seismic velocity'])\n",
    "N_Data=len(X)\n",
    "\n",
    "n=0\n",
    "sum_x=0\n",
    "sum_x2=0\n",
    "\n",
    "while n < N_Data: \n",
    "    x=X[n]\n",
    "    sum_x += x\n",
    "    sum_x2 += x**2\n",
    "    x=X[n]\n",
    "    n +=1\n",
    "\n",
    "print(f\"Sum of x: {sum_x}\")\n",
    "print(f\"Sum of x**2: {sum_x2}\")\n",
    "\n",
    "x_bar=sum_x/n\n",
    "std_dev=math.sqrt((n*sum_x2-sum_x*2)/(n*(n-1)))\n",
    "\n",
    "print('-------------------------------------------')\n",
    "print(f'Mean of Density is {x_bar:.2f} g/cc')\n",
    "print(f'Standard Deviation of Density is {std_dev:.2f} g/cc')"
   ]
  },
  {
   "cell_type": "code",
   "execution_count": 12,
   "id": "52e99ea8-267c-467e-80e2-6d352e47963d",
   "metadata": {},
   "outputs": [
    {
     "name": "stdout",
     "output_type": "stream",
     "text": [
      "sum of y: 46.599999999999994\n",
      "sum of y**2: 217.98000000000002\n",
      "----------------------------------------\n",
      "Mean of Density is 4.66 km/s\n",
      "Standard Deviation of Velosity is 7.06 km/s\n"
     ]
    }
   ],
   "source": [
    "import pandas as pd\n",
    "petrophy={'rock density' :[2.60, 2.65, 2.70, 2.75, 2.80],\n",
    "          'seismic velocity' :[4.2, 4.5, 4.7, 4.9, 5.0]}\n",
    "petro_df=pd.DataFrame(petrophy)\n",
    "petro_df\n",
    "\n",
    "import numpy as np\n",
    "import math\n",
    "\n",
    "X=np.array(petro_df ['rock density'])\n",
    "Y=np.array(petro_df ['seismic velocity'])\n",
    "N_Data=len(Y)\n",
    "\n",
    "n=0\n",
    "sum_y=0\n",
    "sum_y2=0\n",
    "\n",
    "for v in Y:\n",
    "    sum_y+=v\n",
    "    sum_y2+=v**2\n",
    "    n+=1\n",
    "\n",
    "print(f\"sum of y: {sum_y}\")\n",
    "print(f\"sum of y**2: {sum_y2}\")\n",
    "\n",
    "mean_y=sum_y/n\n",
    "std_dev=math.sqrt((n*sum_y2-sum_y*2)/(n*(n-1)))\n",
    "\n",
    "print('----------------------------------------')\n",
    "print(f'Mean of Velocity is {y_bar:.2f} km/s')\n",
    "print(f'Standard Deviation of Velocity is {std_dev:.2f} km/s')"
   ]
  },
  {
   "cell_type": "code",
   "execution_count": 16,
   "id": "73411aa6-426d-442d-b782-c901a35a7d77",
   "metadata": {},
   "outputs": [
    {
     "name": "stdout",
     "output_type": "stream",
     "text": [
      "sum of x: 13.5\n",
      "sum of x**2: 36.475\n",
      "----------------------------------------\n",
      "Mean of Density is 4.66 g/cc\n",
      "Standard Deviation of Density is 2.79 g/cc\n"
     ]
    }
   ],
   "source": [
    "import pandas as pd\n",
    "petrophy={'rock density' :[2.60, 2.65, 2.70, 2.75, 2.80],\n",
    "          'seismic velocity' :[4.2, 4.5, 4.7, 4.9, 5.0]}\n",
    "petro_df=pd.DataFrame(petrophy)\n",
    "petro_df\n",
    "\n",
    "import numpy as np\n",
    "import math\n",
    "\n",
    "X=np.array(petro_df ['rock density'])\n",
    "Y=np.array(petro_df ['seismic velocity'])\n",
    "N_Data=len(X)\n",
    "\n",
    "n=0\n",
    "sum_x=0\n",
    "sum_x2=0\n",
    "\n",
    "for v in X:\n",
    "    sum_x+=v\n",
    "    sum_x2+=v**2\n",
    "    n+=1\n",
    "\n",
    "print(f\"sum of x: {sum_x}\")\n",
    "print(f\"sum of x**2: {sum_x2}\")\n",
    "\n",
    "mean_x=sum_x/n\n",
    "std_dev=math.sqrt((n*sum_x2-sum_x*2)/(n*(n-1)))\n",
    "\n",
    "print('----------------------------------------')\n",
    "print(f'Mean of Density is {y_bar:.2f} g/cc')\n",
    "print(f'Standard Deviation of Density is {std_dev:.2f} g/cc')"
   ]
  },
  {
   "cell_type": "code",
   "execution_count": null,
   "id": "f210e9f4-af81-472a-8701-dc4f9838bd99",
   "metadata": {},
   "outputs": [],
   "source": []
  }
 ],
 "metadata": {
  "kernelspec": {
   "display_name": "Python 3 (ipykernel)",
   "language": "python",
   "name": "python3"
  },
  "language_info": {
   "codemirror_mode": {
    "name": "ipython",
    "version": 3
   },
   "file_extension": ".py",
   "mimetype": "text/x-python",
   "name": "python",
   "nbconvert_exporter": "python",
   "pygments_lexer": "ipython3",
   "version": "3.12.4"
  }
 },
 "nbformat": 4,
 "nbformat_minor": 5
}
