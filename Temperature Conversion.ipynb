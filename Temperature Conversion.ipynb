{
 "cells": [
  {
   "cell_type": "code",
   "execution_count": 5,
   "id": "8adde474-1300-4d1e-8aed-75f524bb80db",
   "metadata": {},
   "outputs": [
    {
     "name": "stdout",
     "output_type": "stream",
     "text": [
      "Temperature conversion from kelvin\n"
     ]
    },
    {
     "name": "stdin",
     "output_type": "stream",
     "text": [
      "input temperature in kelvin 300\n"
     ]
    },
    {
     "name": "stdout",
     "output_type": "stream",
     "text": [
      "Temperature in Celsius degree= 26.850000000000023\n",
      "Temperature in Fahrenheit degree= 80.33000000000004\n",
      "Temperature in Reamur degree= 21.480000000000018\n"
     ]
    }
   ],
   "source": [
    "print('Temperature conversion from kelvin')\n",
    "T_K=int(input('input temperature in kelvin'))\n",
    "T_Cel=T_K-273.15\n",
    "T_F=(T_K-273.15)*9/5+32\n",
    "T_R=(T_K-273.15)*4/5\n",
    "print('Temperature in Celsius degree=',T_Cel)\n",
    "print('Temperature in Fahrenheit degree=',T_F)\n",
    "print('Temperature in Reamur degree=',T_R)"
   ]
  },
  {
   "cell_type": "code",
   "execution_count": 7,
   "id": "148806ee-b2d0-4b46-9379-43f3f642ad7a",
   "metadata": {},
   "outputs": [
    {
     "name": "stdout",
     "output_type": "stream",
     "text": [
      "Temperature conversion from fahrenheit\n"
     ]
    },
    {
     "name": "stdin",
     "output_type": "stream",
     "text": [
      "input temperature in fahrenheit 100\n"
     ]
    },
    {
     "name": "stdout",
     "output_type": "stream",
     "text": [
      "Temperature in Celcius degree= 37.77777777777778\n",
      "Temperature in Kelvin= 422.0388888888889\n",
      "Tem[erature in Reamur= 173.3506172839506\n"
     ]
    }
   ],
   "source": [
    "print('Temperature conversion from fahrenheit')\n",
    "T_F=int(input('input temperature in fahrenheit'))\n",
    "T_Cel=(T_F-32)*5/9\n",
    "T_K=(T_K-32)*5/9+273.15\n",
    "T_R=(T_K-32)*4/9\n",
    "print('Temperature in Celcius degree=',T_Cel)\n",
    "print('Temperature in Kelvin=',T_K)\n",
    "print('Tem[erature in Reamur=',T_R)"
   ]
  },
  {
   "cell_type": "code",
   "execution_count": 9,
   "id": "8b3d7582-c94a-4ff9-9864-377bd67f9cb0",
   "metadata": {},
   "outputs": [
    {
     "name": "stdout",
     "output_type": "stream",
     "text": [
      "Temperature conversion in reamur\n"
     ]
    },
    {
     "name": "stdin",
     "output_type": "stream",
     "text": [
      "input temperature in reamur 50\n"
     ]
    },
    {
     "name": "stdout",
     "output_type": "stream",
     "text": [
      "Temperature in Celcius degree= 62.5\n",
      "Temperature in Kelvin= 335.65\n",
      "Temperature in Fahrenheit= 144.5\n"
     ]
    }
   ],
   "source": [
    "print('Temperature conversion in reamur')\n",
    "T_R=int(input('input temperature in reamur'))\n",
    "T_Cel=T_R*5/4\n",
    "T_K=(T_R*5/4)+273.15\n",
    "T_F=(T_R*9/4)+32\n",
    "print('Temperature in Celcius degree=',T_Cel)\n",
    "print('Temperature in Kelvin=',T_K)\n",
    "print('Temperature in Fahrenheit=',T_F)"
   ]
  },
  {
   "cell_type": "code",
   "execution_count": null,
   "id": "cd153f65-da4f-4fc1-958a-1e53111a6d11",
   "metadata": {},
   "outputs": [],
   "source": []
  }
 ],
 "metadata": {
  "kernelspec": {
   "display_name": "Python 3 (ipykernel)",
   "language": "python",
   "name": "python3"
  },
  "language_info": {
   "codemirror_mode": {
    "name": "ipython",
    "version": 3
   },
   "file_extension": ".py",
   "mimetype": "text/x-python",
   "name": "python",
   "nbconvert_exporter": "python",
   "pygments_lexer": "ipython3",
   "version": "3.12.4"
  }
 },
 "nbformat": 4,
 "nbformat_minor": 5
}
